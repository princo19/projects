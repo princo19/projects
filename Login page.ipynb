{
 "cells": [
  {
   "cell_type": "code",
   "execution_count": 3,
   "metadata": {},
   "outputs": [],
   "source": [
    "from tkinter import *\n",
    "from PIL import ImageTk\n",
    "from tkinter import messagebox\n",
    "\n",
    "\n",
    "class Login():\n",
    "    def __init__(self,root):\n",
    "        self.root=root\n",
    "        self.root.title(\"Login\")\n",
    "        self.root.geometry(\"1350x700+0+0\")\n",
    "        \n",
    "        \n",
    "        self.bg_icon=ImageTk.PhotoImage(file=\"bg.jpg\")\n",
    "        self.user_icon=PhotoImage(file=\"main.png\")\n",
    "        self.pass_icon=PhotoImage(file=\"pass.png\")\n",
    "        self.logo_icon=ImageTk.PhotoImage(file=\"user.jpg\")\n",
    "        self.uname=StringVar()\n",
    "        self.pass_=StringVar()\n",
    "        \n",
    "        bg_lbl=Label(self.root,image=self.bg_icon).pack()\n",
    "        \n",
    "        title=Label(self.root,text=\"Welcome To Student Database\",font=(\"times new roman\",40,\"bold\"),bg=\"yellow\",fg=\"blue\",bd=10,relief=GROOVE)\n",
    "        title.place(x=0,y=0,relwidth=1)\n",
    "         \n",
    "        \n",
    "        Login_win=Frame(self.root,bg=\"white\")\n",
    "        Login_win.place(x=400,y=150)\n",
    "        logolbl=Label(Login_win,image=self.logo_icon,bd=0)\n",
    "        logolbl.grid(row=0,columnspan=3,pady=20)\n",
    "        \n",
    "        lbluser=Label(Login_win,text=\"Username\",image=self.user_icon,compound=LEFT,font=(\"times new roman\",20,\"bold\"),bg=\"white\").grid(row=1,column=0,padx=20,pady=10)\n",
    "        txtuser=Entry(Login_win,bd=5,textvariable=self.uname,relief=GROOVE,font=(\"\",15)).grid(row=1,column=1,padx=20)\n",
    "        \n",
    "        lblpass=Label(Login_win,text=\"Password\",image=self.pass_icon,compound=LEFT,font=(\"times new roman\",20,\"bold\"),bg=\"white\").grid(row=2,column=0,padx=20,pady=10)\n",
    "        txtpass=Entry(Login_win,bd=5,textvariable=self.pass_,relief=GROOVE,font=(\"\",15)).grid(row=2,column=1,padx=20)\n",
    "         \n",
    "        btn_log=Button(Login_win,text=\"Login\",width=15,command=self.login,font=(\"times new roman\",14,\"bold\"),bg=\"yellow\",fg=\"red\").grid(row=3,column=1,pady=10)\n",
    "\n",
    "        \n",
    "        \n",
    "    def login(self):\n",
    "        if self.uname.get()==\"\" or self.pass_.get()==\"\" :\n",
    "            messagebox.showerror(\"Error\",\"All fields are required!!\")\n",
    "        elif self.uname.get()==\"ACET\" or self.pass_.get()==\"123456\" :\n",
    "            messagebox.showinfo(\"Successfull\",f\"Welcome {self.uname.get()}\")\n",
    "        else:\n",
    "            messagebox.showerror(\"Error\",\"Invalid Username or Password\")\n",
    "\n",
    "        \n",
    "root=Tk()\n",
    "obj=Login(root)\n",
    "root.mainloop()\n"
   ]
  },
  {
   "cell_type": "code",
   "execution_count": null,
   "metadata": {},
   "outputs": [],
   "source": []
  },
  {
   "cell_type": "code",
   "execution_count": null,
   "metadata": {},
   "outputs": [],
   "source": []
  }
 ],
 "metadata": {
  "kernelspec": {
   "display_name": "Python 3",
   "language": "python",
   "name": "python3"
  },
  "language_info": {
   "codemirror_mode": {
    "name": "ipython",
    "version": 3
   },
   "file_extension": ".py",
   "mimetype": "text/x-python",
   "name": "python",
   "nbconvert_exporter": "python",
   "pygments_lexer": "ipython3",
   "version": "3.7.7"
  }
 },
 "nbformat": 4,
 "nbformat_minor": 4
}
